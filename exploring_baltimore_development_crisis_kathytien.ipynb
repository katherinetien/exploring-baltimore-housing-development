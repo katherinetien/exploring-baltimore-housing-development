{
  "nbformat": 4,
  "nbformat_minor": 0,
  "metadata": {
    "colab": {
      "name": "exploring-baltimore-development-crisis-kathytien.ipynb",
      "provenance": [],
      "collapsed_sections": [],
      "authorship_tag": "ABX9TyNS96OGzwFUmovYcUJIYq6O",
      "include_colab_link": true
    },
    "kernelspec": {
      "name": "python3",
      "display_name": "Python 3"
    }
  },
  "cells": [
    {
      "cell_type": "markdown",
      "metadata": {
        "id": "view-in-github",
        "colab_type": "text"
      },
      "source": [
        "<a href=\"https://colab.research.google.com/github/katherinetien/exploring-baltimore-housing-development/blob/main/exploring_baltimore_development_crisis_kathytien.ipynb\" target=\"_parent\"><img src=\"https://colab.research.google.com/assets/colab-badge.svg\" alt=\"Open In Colab\"/></a>"
      ]
    },
    {
      "cell_type": "markdown",
      "metadata": {
        "id": "NMqm7OU6S2Zh"
      },
      "source": [
        "## Exploring Data Relevant to Housing and Community Development in Baltimore\n",
        "*  Business question is to evaluate the resources available for \n",
        "low-income neighborhoods to foster economic growth \n",
        "*  Identify trends in vacant houses and population growth/decline in neighborhoods\n",
        "\n"
      ]
    },
    {
      "cell_type": "code",
      "metadata": {
        "id": "Vd5j4SbZVRmU"
      },
      "source": [
        "# for data analysis \n",
        "import pandas as pd\n",
        "import numpy as np\n",
        "\n",
        "# for data visualization \n",
        "import plotly.express as px "
      ],
      "execution_count": null,
      "outputs": []
    },
    {
      "cell_type": "markdown",
      "metadata": {
        "id": "vcM5a932vKTo"
      },
      "source": [
        "# import datasets"
      ]
    },
    {
      "cell_type": "code",
      "metadata": {
        "id": "u6g5hZWAVkM0"
      },
      "source": [
        "# import data \n",
        "\n",
        "# percentage of residential properties that are vacant and abandoned by neighborhood\n",
        "df_vacant_props = pd.read_csv(\"https://raw.githubusercontent.com/katherinetien/exploring-baltimore-housing-development/main/abandoned_housing.csv\")"
      ],
      "execution_count": null,
      "outputs": []
    },
    {
      "cell_type": "code",
      "metadata": {
        "colab": {
          "base_uri": "https://localhost:8080/",
          "height": 204
        },
        "id": "uPX-VmP2Yk13",
        "outputId": "64a7aa65-3485-4a27-dc2a-0d48fa8261d7"
      },
      "source": [
        "# preview imported data\n",
        "df_vacant_props.head()"
      ],
      "execution_count": null,
      "outputs": [
        {
          "output_type": "execute_result",
          "data": {
            "text/html": [
              "<div>\n",
              "<style scoped>\n",
              "    .dataframe tbody tr th:only-of-type {\n",
              "        vertical-align: middle;\n",
              "    }\n",
              "\n",
              "    .dataframe tbody tr th {\n",
              "        vertical-align: top;\n",
              "    }\n",
              "\n",
              "    .dataframe thead th {\n",
              "        text-align: right;\n",
              "    }\n",
              "</style>\n",
              "<table border=\"1\" class=\"dataframe\">\n",
              "  <thead>\n",
              "    <tr style=\"text-align: right;\">\n",
              "      <th></th>\n",
              "      <th>Tract</th>\n",
              "      <th>Neighborhood</th>\n",
              "      <th>City</th>\n",
              "      <th>State</th>\n",
              "      <th>Percent Abandoned Houses</th>\n",
              "    </tr>\n",
              "  </thead>\n",
              "  <tbody>\n",
              "    <tr>\n",
              "      <th>0</th>\n",
              "      <td>24510250101</td>\n",
              "      <td>Beechfield</td>\n",
              "      <td>Baltimore</td>\n",
              "      <td>MD</td>\n",
              "      <td>1.025499</td>\n",
              "    </tr>\n",
              "    <tr>\n",
              "      <th>1</th>\n",
              "      <td>24003750201</td>\n",
              "      <td>Brooklyn</td>\n",
              "      <td>Baltimore</td>\n",
              "      <td>MD</td>\n",
              "      <td>7.826087</td>\n",
              "    </tr>\n",
              "    <tr>\n",
              "      <th>2</th>\n",
              "      <td>24510250401</td>\n",
              "      <td>Brooklyn</td>\n",
              "      <td>Baltimore</td>\n",
              "      <td>MD</td>\n",
              "      <td>7.826087</td>\n",
              "    </tr>\n",
              "    <tr>\n",
              "      <th>3</th>\n",
              "      <td>24510250402</td>\n",
              "      <td>Brooklyn</td>\n",
              "      <td>Baltimore</td>\n",
              "      <td>MD</td>\n",
              "      <td>7.826087</td>\n",
              "    </tr>\n",
              "    <tr>\n",
              "      <th>4</th>\n",
              "      <td>24510250600</td>\n",
              "      <td>Brooklyn</td>\n",
              "      <td>Baltimore</td>\n",
              "      <td>MD</td>\n",
              "      <td>7.826087</td>\n",
              "    </tr>\n",
              "  </tbody>\n",
              "</table>\n",
              "</div>"
            ],
            "text/plain": [
              "         Tract Neighborhood      City  State  Percent Abandoned Houses\n",
              "0  24510250101   Beechfield  Baltimore    MD                  1.025499\n",
              "1  24003750201     Brooklyn  Baltimore    MD                  7.826087\n",
              "2  24510250401     Brooklyn  Baltimore    MD                  7.826087\n",
              "3  24510250402     Brooklyn  Baltimore    MD                  7.826087\n",
              "4  24510250600     Brooklyn  Baltimore    MD                  7.826087"
            ]
          },
          "metadata": {
            "tags": []
          },
          "execution_count": 32
        }
      ]
    },
    {
      "cell_type": "code",
      "metadata": {
        "id": "v7EvZQvxZSy7"
      },
      "source": [
        "# import rest of data \n",
        "\n",
        "# population growth percentage from 2010-2018 by neighborhood\n",
        "# positive value is growth, negative value is decline\n",
        "df_pop_growth = pd.read_csv(\"https://raw.githubusercontent.com/katherinetien/exploring-baltimore-housing-development/main/population_growth.csv\") "
      ],
      "execution_count": null,
      "outputs": []
    },
    {
      "cell_type": "code",
      "metadata": {
        "colab": {
          "base_uri": "https://localhost:8080/",
          "height": 204
        },
        "id": "lBlhYdtYalAX",
        "outputId": "ee67f0d1-f882-4c5a-a641-ee0ec7168a0a"
      },
      "source": [
        "# preview imported data\n",
        "df_pop_growth.head()"
      ],
      "execution_count": null,
      "outputs": [
        {
          "output_type": "execute_result",
          "data": {
            "text/html": [
              "<div>\n",
              "<style scoped>\n",
              "    .dataframe tbody tr th:only-of-type {\n",
              "        vertical-align: middle;\n",
              "    }\n",
              "\n",
              "    .dataframe tbody tr th {\n",
              "        vertical-align: top;\n",
              "    }\n",
              "\n",
              "    .dataframe thead th {\n",
              "        text-align: right;\n",
              "    }\n",
              "</style>\n",
              "<table border=\"1\" class=\"dataframe\">\n",
              "  <thead>\n",
              "    <tr style=\"text-align: right;\">\n",
              "      <th></th>\n",
              "      <th>Tract</th>\n",
              "      <th>Neighborhood</th>\n",
              "      <th>City</th>\n",
              "      <th>State</th>\n",
              "      <th>Population Growth</th>\n",
              "    </tr>\n",
              "  </thead>\n",
              "  <tbody>\n",
              "    <tr>\n",
              "      <th>0</th>\n",
              "      <td>24510250101</td>\n",
              "      <td>Beechfield</td>\n",
              "      <td>Baltimore</td>\n",
              "      <td>MD</td>\n",
              "      <td>-0.013305</td>\n",
              "    </tr>\n",
              "    <tr>\n",
              "      <th>1</th>\n",
              "      <td>24003750201</td>\n",
              "      <td>Brooklyn</td>\n",
              "      <td>Baltimore</td>\n",
              "      <td>MD</td>\n",
              "      <td>0.094972</td>\n",
              "    </tr>\n",
              "    <tr>\n",
              "      <th>2</th>\n",
              "      <td>24510250401</td>\n",
              "      <td>Brooklyn</td>\n",
              "      <td>Baltimore</td>\n",
              "      <td>MD</td>\n",
              "      <td>0.094972</td>\n",
              "    </tr>\n",
              "    <tr>\n",
              "      <th>3</th>\n",
              "      <td>24510250402</td>\n",
              "      <td>Brooklyn</td>\n",
              "      <td>Baltimore</td>\n",
              "      <td>MD</td>\n",
              "      <td>0.094972</td>\n",
              "    </tr>\n",
              "    <tr>\n",
              "      <th>4</th>\n",
              "      <td>24510250600</td>\n",
              "      <td>Brooklyn</td>\n",
              "      <td>Baltimore</td>\n",
              "      <td>MD</td>\n",
              "      <td>0.094972</td>\n",
              "    </tr>\n",
              "  </tbody>\n",
              "</table>\n",
              "</div>"
            ],
            "text/plain": [
              "        Tract  Neighborhood       City State  Population Growth\n",
              "0  24510250101   Beechfield  Baltimore    MD          -0.013305\n",
              "1  24003750201     Brooklyn  Baltimore    MD           0.094972\n",
              "2  24510250401     Brooklyn  Baltimore    MD           0.094972\n",
              "3  24510250402     Brooklyn  Baltimore    MD           0.094972\n",
              "4  24510250600     Brooklyn  Baltimore    MD           0.094972"
            ]
          },
          "metadata": {
            "tags": []
          },
          "execution_count": 34
        }
      ]
    },
    {
      "cell_type": "code",
      "metadata": {
        "colab": {
          "base_uri": "https://localhost:8080/",
          "height": 297
        },
        "id": "HFmFD31Rbem5",
        "outputId": "f1ce1c02-0be3-405e-d148-24039ceed55e"
      },
      "source": [
        "df_pop_growth.describe()"
      ],
      "execution_count": null,
      "outputs": [
        {
          "output_type": "execute_result",
          "data": {
            "text/html": [
              "<div>\n",
              "<style scoped>\n",
              "    .dataframe tbody tr th:only-of-type {\n",
              "        vertical-align: middle;\n",
              "    }\n",
              "\n",
              "    .dataframe tbody tr th {\n",
              "        vertical-align: top;\n",
              "    }\n",
              "\n",
              "    .dataframe thead th {\n",
              "        text-align: right;\n",
              "    }\n",
              "</style>\n",
              "<table border=\"1\" class=\"dataframe\">\n",
              "  <thead>\n",
              "    <tr style=\"text-align: right;\">\n",
              "      <th></th>\n",
              "      <th>Tract</th>\n",
              "      <th>Population Growth</th>\n",
              "    </tr>\n",
              "  </thead>\n",
              "  <tbody>\n",
              "    <tr>\n",
              "      <th>count</th>\n",
              "      <td>4.100000e+01</td>\n",
              "      <td>41.000000</td>\n",
              "    </tr>\n",
              "    <tr>\n",
              "      <th>mean</th>\n",
              "      <td>2.449783e+10</td>\n",
              "      <td>0.203573</td>\n",
              "    </tr>\n",
              "    <tr>\n",
              "      <th>std</th>\n",
              "      <td>7.909129e+07</td>\n",
              "      <td>0.457238</td>\n",
              "    </tr>\n",
              "    <tr>\n",
              "      <th>min</th>\n",
              "      <td>2.400375e+10</td>\n",
              "      <td>-0.103415</td>\n",
              "    </tr>\n",
              "    <tr>\n",
              "      <th>25%</th>\n",
              "      <td>2.451012e+10</td>\n",
              "      <td>-0.013305</td>\n",
              "    </tr>\n",
              "    <tr>\n",
              "      <th>50%</th>\n",
              "      <td>2.451021e+10</td>\n",
              "      <td>0.041591</td>\n",
              "    </tr>\n",
              "    <tr>\n",
              "      <th>75%</th>\n",
              "      <td>2.451025e+10</td>\n",
              "      <td>0.121103</td>\n",
              "    </tr>\n",
              "    <tr>\n",
              "      <th>max</th>\n",
              "      <td>2.451027e+10</td>\n",
              "      <td>1.396552</td>\n",
              "    </tr>\n",
              "  </tbody>\n",
              "</table>\n",
              "</div>"
            ],
            "text/plain": [
              "             Tract   Population Growth\n",
              "count  4.100000e+01          41.000000\n",
              "mean   2.449783e+10           0.203573\n",
              "std    7.909129e+07           0.457238\n",
              "min    2.400375e+10          -0.103415\n",
              "25%    2.451012e+10          -0.013305\n",
              "50%    2.451021e+10           0.041591\n",
              "75%    2.451025e+10           0.121103\n",
              "max    2.451027e+10           1.396552"
            ]
          },
          "metadata": {
            "tags": []
          },
          "execution_count": 35
        }
      ]
    },
    {
      "cell_type": "markdown",
      "metadata": {
        "id": "13qScRK0xWXU"
      },
      "source": [
        "# merge data"
      ]
    },
    {
      "cell_type": "code",
      "metadata": {
        "id": "D2pK30Zvb3Gg"
      },
      "source": [
        "# merge datasets\n",
        "\n",
        "df_vacant_props_pop_growth_merge = pd.merge(df_vacant_props, \n",
        "                                            df_pop_growth[[\"Neighborhood\", \"Population Growth\"]], \n",
        "                                            how = \"left\", \n",
        "                                            on = \"Neighborhood\")"
      ],
      "execution_count": null,
      "outputs": []
    },
    {
      "cell_type": "code",
      "metadata": {
        "colab": {
          "base_uri": "https://localhost:8080/",
          "height": 204
        },
        "id": "sYKfzGCyf-bh",
        "outputId": "e2c6a774-0d6c-4afa-d043-7ad02abc2ebc"
      },
      "source": [
        "# preview merged dataset \n",
        "df_vacant_props_pop_growth_merge.head()"
      ],
      "execution_count": null,
      "outputs": [
        {
          "output_type": "execute_result",
          "data": {
            "text/html": [
              "<div>\n",
              "<style scoped>\n",
              "    .dataframe tbody tr th:only-of-type {\n",
              "        vertical-align: middle;\n",
              "    }\n",
              "\n",
              "    .dataframe tbody tr th {\n",
              "        vertical-align: top;\n",
              "    }\n",
              "\n",
              "    .dataframe thead th {\n",
              "        text-align: right;\n",
              "    }\n",
              "</style>\n",
              "<table border=\"1\" class=\"dataframe\">\n",
              "  <thead>\n",
              "    <tr style=\"text-align: right;\">\n",
              "      <th></th>\n",
              "      <th>Tract</th>\n",
              "      <th>Neighborhood</th>\n",
              "      <th>City</th>\n",
              "      <th>State</th>\n",
              "      <th>Percent Abandoned Houses</th>\n",
              "      <th>Population Growth</th>\n",
              "    </tr>\n",
              "  </thead>\n",
              "  <tbody>\n",
              "    <tr>\n",
              "      <th>0</th>\n",
              "      <td>24510250101</td>\n",
              "      <td>Beechfield</td>\n",
              "      <td>Baltimore</td>\n",
              "      <td>MD</td>\n",
              "      <td>1.025499</td>\n",
              "      <td>-0.013305</td>\n",
              "    </tr>\n",
              "    <tr>\n",
              "      <th>1</th>\n",
              "      <td>24003750201</td>\n",
              "      <td>Brooklyn</td>\n",
              "      <td>Baltimore</td>\n",
              "      <td>MD</td>\n",
              "      <td>7.826087</td>\n",
              "      <td>0.094972</td>\n",
              "    </tr>\n",
              "    <tr>\n",
              "      <th>2</th>\n",
              "      <td>24003750201</td>\n",
              "      <td>Brooklyn</td>\n",
              "      <td>Baltimore</td>\n",
              "      <td>MD</td>\n",
              "      <td>7.826087</td>\n",
              "      <td>0.094972</td>\n",
              "    </tr>\n",
              "    <tr>\n",
              "      <th>3</th>\n",
              "      <td>24003750201</td>\n",
              "      <td>Brooklyn</td>\n",
              "      <td>Baltimore</td>\n",
              "      <td>MD</td>\n",
              "      <td>7.826087</td>\n",
              "      <td>0.094972</td>\n",
              "    </tr>\n",
              "    <tr>\n",
              "      <th>4</th>\n",
              "      <td>24003750201</td>\n",
              "      <td>Brooklyn</td>\n",
              "      <td>Baltimore</td>\n",
              "      <td>MD</td>\n",
              "      <td>7.826087</td>\n",
              "      <td>0.094972</td>\n",
              "    </tr>\n",
              "  </tbody>\n",
              "</table>\n",
              "</div>"
            ],
            "text/plain": [
              "         Tract Neighborhood  ... Percent Abandoned Houses Population Growth\n",
              "0  24510250101   Beechfield  ...                 1.025499         -0.013305\n",
              "1  24003750201     Brooklyn  ...                 7.826087          0.094972\n",
              "2  24003750201     Brooklyn  ...                 7.826087          0.094972\n",
              "3  24003750201     Brooklyn  ...                 7.826087          0.094972\n",
              "4  24003750201     Brooklyn  ...                 7.826087          0.094972\n",
              "\n",
              "[5 rows x 6 columns]"
            ]
          },
          "metadata": {
            "tags": []
          },
          "execution_count": 43
        }
      ]
    },
    {
      "cell_type": "code",
      "metadata": {
        "id": "WDqRJ5K2gJeu"
      },
      "source": [
        "# data visualization with plotly express \n",
        "from plotly.subplots import make_subplots\n",
        "import plotly.figure_factory as ff "
      ],
      "execution_count": null,
      "outputs": []
    },
    {
      "cell_type": "code",
      "metadata": {
        "colab": {
          "base_uri": "https://localhost:8080/",
          "height": 204
        },
        "id": "L1hyRxA5iM84",
        "outputId": "438e3368-49e0-4adf-fc54-a4aa1c4177b7"
      },
      "source": [
        "# preview merged dataset to use for line graph \n",
        "df_vacant_props_pop_growth_merge.head(5)"
      ],
      "execution_count": null,
      "outputs": [
        {
          "output_type": "execute_result",
          "data": {
            "text/html": [
              "<div>\n",
              "<style scoped>\n",
              "    .dataframe tbody tr th:only-of-type {\n",
              "        vertical-align: middle;\n",
              "    }\n",
              "\n",
              "    .dataframe tbody tr th {\n",
              "        vertical-align: top;\n",
              "    }\n",
              "\n",
              "    .dataframe thead th {\n",
              "        text-align: right;\n",
              "    }\n",
              "</style>\n",
              "<table border=\"1\" class=\"dataframe\">\n",
              "  <thead>\n",
              "    <tr style=\"text-align: right;\">\n",
              "      <th></th>\n",
              "      <th>Tract</th>\n",
              "      <th>Neighborhood</th>\n",
              "      <th>City</th>\n",
              "      <th>State</th>\n",
              "      <th>Percent Abandoned Houses</th>\n",
              "      <th>Population Growth</th>\n",
              "    </tr>\n",
              "  </thead>\n",
              "  <tbody>\n",
              "    <tr>\n",
              "      <th>0</th>\n",
              "      <td>24510250101</td>\n",
              "      <td>Beechfield</td>\n",
              "      <td>Baltimore</td>\n",
              "      <td>MD</td>\n",
              "      <td>1.025499</td>\n",
              "      <td>-0.013305</td>\n",
              "    </tr>\n",
              "    <tr>\n",
              "      <th>1</th>\n",
              "      <td>24003750201</td>\n",
              "      <td>Brooklyn</td>\n",
              "      <td>Baltimore</td>\n",
              "      <td>MD</td>\n",
              "      <td>7.826087</td>\n",
              "      <td>0.094972</td>\n",
              "    </tr>\n",
              "    <tr>\n",
              "      <th>17</th>\n",
              "      <td>24510010400</td>\n",
              "      <td>Canton</td>\n",
              "      <td>Baltimore</td>\n",
              "      <td>MD</td>\n",
              "      <td>0.470530</td>\n",
              "      <td>0.121103</td>\n",
              "    </tr>\n",
              "    <tr>\n",
              "      <th>33</th>\n",
              "      <td>24510272004</td>\n",
              "      <td>Cheswolde</td>\n",
              "      <td>Baltimore</td>\n",
              "      <td>MD</td>\n",
              "      <td>0.102705</td>\n",
              "      <td>0.131686</td>\n",
              "    </tr>\n",
              "    <tr>\n",
              "      <th>34</th>\n",
              "      <td>24510250500</td>\n",
              "      <td>Curtis Bay</td>\n",
              "      <td>Baltimore</td>\n",
              "      <td>MD</td>\n",
              "      <td>7.826087</td>\n",
              "      <td>0.020342</td>\n",
              "    </tr>\n",
              "  </tbody>\n",
              "</table>\n",
              "</div>"
            ],
            "text/plain": [
              "          Tract Neighborhood  ... Percent Abandoned Houses Population Growth\n",
              "0   24510250101   Beechfield  ...                 1.025499         -0.013305\n",
              "1   24003750201     Brooklyn  ...                 7.826087          0.094972\n",
              "17  24510010400       Canton  ...                 0.470530          0.121103\n",
              "33  24510272004    Cheswolde  ...                 0.102705          0.131686\n",
              "34  24510250500   Curtis Bay  ...                 7.826087          0.020342\n",
              "\n",
              "[5 rows x 6 columns]"
            ]
          },
          "metadata": {
            "tags": []
          },
          "execution_count": 49
        }
      ]
    },
    {
      "cell_type": "code",
      "metadata": {
        "id": "d7tR07a0iXxM"
      },
      "source": [
        "# drop duplicates\n",
        "df_vacant_props_pop_growth_merge = df_vacant_props_pop_growth_merge.drop_duplicates(subset = \"Neighborhood\", keep = \"first\")"
      ],
      "execution_count": null,
      "outputs": []
    },
    {
      "cell_type": "code",
      "metadata": {
        "colab": {
          "base_uri": "https://localhost:8080/",
          "height": 793
        },
        "id": "_ChMDUoFilfO",
        "outputId": "4babfe2d-be53-4c56-ac27-0ce9a42454dc"
      },
      "source": [
        "# preview merged dataset without duplicated data \n",
        "df_vacant_props_pop_growth_merge.head(25)"
      ],
      "execution_count": null,
      "outputs": [
        {
          "output_type": "execute_result",
          "data": {
            "text/html": [
              "<div>\n",
              "<style scoped>\n",
              "    .dataframe tbody tr th:only-of-type {\n",
              "        vertical-align: middle;\n",
              "    }\n",
              "\n",
              "    .dataframe tbody tr th {\n",
              "        vertical-align: top;\n",
              "    }\n",
              "\n",
              "    .dataframe thead th {\n",
              "        text-align: right;\n",
              "    }\n",
              "</style>\n",
              "<table border=\"1\" class=\"dataframe\">\n",
              "  <thead>\n",
              "    <tr style=\"text-align: right;\">\n",
              "      <th></th>\n",
              "      <th>Tract</th>\n",
              "      <th>Neighborhood</th>\n",
              "      <th>City</th>\n",
              "      <th>State</th>\n",
              "      <th>Percent Abandoned Houses</th>\n",
              "      <th>Population Growth</th>\n",
              "    </tr>\n",
              "  </thead>\n",
              "  <tbody>\n",
              "    <tr>\n",
              "      <th>0</th>\n",
              "      <td>24510250101</td>\n",
              "      <td>Beechfield</td>\n",
              "      <td>Baltimore</td>\n",
              "      <td>MD</td>\n",
              "      <td>1.025499</td>\n",
              "      <td>-0.013305</td>\n",
              "    </tr>\n",
              "    <tr>\n",
              "      <th>1</th>\n",
              "      <td>24003750201</td>\n",
              "      <td>Brooklyn</td>\n",
              "      <td>Baltimore</td>\n",
              "      <td>MD</td>\n",
              "      <td>7.826087</td>\n",
              "      <td>0.094972</td>\n",
              "    </tr>\n",
              "    <tr>\n",
              "      <th>17</th>\n",
              "      <td>24510010400</td>\n",
              "      <td>Canton</td>\n",
              "      <td>Baltimore</td>\n",
              "      <td>MD</td>\n",
              "      <td>0.470530</td>\n",
              "      <td>0.121103</td>\n",
              "    </tr>\n",
              "    <tr>\n",
              "      <th>33</th>\n",
              "      <td>24510272004</td>\n",
              "      <td>Cheswolde</td>\n",
              "      <td>Baltimore</td>\n",
              "      <td>MD</td>\n",
              "      <td>0.102705</td>\n",
              "      <td>0.131686</td>\n",
              "    </tr>\n",
              "    <tr>\n",
              "      <th>34</th>\n",
              "      <td>24510250500</td>\n",
              "      <td>Curtis Bay</td>\n",
              "      <td>Baltimore</td>\n",
              "      <td>MD</td>\n",
              "      <td>7.826087</td>\n",
              "      <td>0.020342</td>\n",
              "    </tr>\n",
              "    <tr>\n",
              "      <th>35</th>\n",
              "      <td>24510040100</td>\n",
              "      <td>Downtown</td>\n",
              "      <td>Baltimore</td>\n",
              "      <td>MD</td>\n",
              "      <td>11.190818</td>\n",
              "      <td>1.396552</td>\n",
              "    </tr>\n",
              "    <tr>\n",
              "      <th>60</th>\n",
              "      <td>24510020300</td>\n",
              "      <td>Fells Point</td>\n",
              "      <td>Baltimore</td>\n",
              "      <td>MD</td>\n",
              "      <td>1.031175</td>\n",
              "      <td>0.255843</td>\n",
              "    </tr>\n",
              "    <tr>\n",
              "      <th>61</th>\n",
              "      <td>24510260102</td>\n",
              "      <td>Frankford</td>\n",
              "      <td>Baltimore</td>\n",
              "      <td>MD</td>\n",
              "      <td>1.207883</td>\n",
              "      <td>0.053716</td>\n",
              "    </tr>\n",
              "    <tr>\n",
              "      <th>65</th>\n",
              "      <td>24510130700</td>\n",
              "      <td>Hampden</td>\n",
              "      <td>Baltimore</td>\n",
              "      <td>MD</td>\n",
              "      <td>0.815494</td>\n",
              "      <td>-0.066872</td>\n",
              "    </tr>\n",
              "    <tr>\n",
              "      <th>74</th>\n",
              "      <td>24510180300</td>\n",
              "      <td>Hollins Market</td>\n",
              "      <td>Baltimore</td>\n",
              "      <td>MD</td>\n",
              "      <td>13.543192</td>\n",
              "      <td>-0.103415</td>\n",
              "    </tr>\n",
              "    <tr>\n",
              "      <th>75</th>\n",
              "      <td>24510271200</td>\n",
              "      <td>Homeland</td>\n",
              "      <td>Baltimore</td>\n",
              "      <td>MD</td>\n",
              "      <td>0.470127</td>\n",
              "      <td>0.036593</td>\n",
              "    </tr>\n",
              "    <tr>\n",
              "      <th>76</th>\n",
              "      <td>24510200800</td>\n",
              "      <td>Irvington</td>\n",
              "      <td>Baltimore</td>\n",
              "      <td>MD</td>\n",
              "      <td>5.994024</td>\n",
              "      <td>-0.026010</td>\n",
              "    </tr>\n",
              "    <tr>\n",
              "      <th>77</th>\n",
              "      <td>24510250205</td>\n",
              "      <td>Lakeland</td>\n",
              "      <td>Baltimore</td>\n",
              "      <td>MD</td>\n",
              "      <td>6.996269</td>\n",
              "      <td>0.063318</td>\n",
              "    </tr>\n",
              "    <tr>\n",
              "      <th>78</th>\n",
              "      <td>24510270200</td>\n",
              "      <td>Lauraville</td>\n",
              "      <td>Baltimore</td>\n",
              "      <td>MD</td>\n",
              "      <td>1.476510</td>\n",
              "      <td>-0.051200</td>\n",
              "    </tr>\n",
              "    <tr>\n",
              "      <th>82</th>\n",
              "      <td>24510030200</td>\n",
              "      <td>Little Italy</td>\n",
              "      <td>Baltimore</td>\n",
              "      <td>MD</td>\n",
              "      <td>1.793981</td>\n",
              "      <td>0.041591</td>\n",
              "    </tr>\n",
              "    <tr>\n",
              "      <th>83</th>\n",
              "      <td>24510270803</td>\n",
              "      <td>Loch Raven</td>\n",
              "      <td>Baltimore</td>\n",
              "      <td>MD</td>\n",
              "      <td>0.591716</td>\n",
              "      <td>0.022056</td>\n",
              "    </tr>\n",
              "    <tr>\n",
              "      <th>84</th>\n",
              "      <td>24510130803</td>\n",
              "      <td>Medfield</td>\n",
              "      <td>Baltimore</td>\n",
              "      <td>MD</td>\n",
              "      <td>0.815494</td>\n",
              "      <td>-0.004367</td>\n",
              "    </tr>\n",
              "    <tr>\n",
              "      <th>85</th>\n",
              "      <td>24510250206</td>\n",
              "      <td>Morrell Park</td>\n",
              "      <td>Baltimore</td>\n",
              "      <td>MD</td>\n",
              "      <td>2.062183</td>\n",
              "      <td>0.011796</td>\n",
              "    </tr>\n",
              "    <tr>\n",
              "      <th>89</th>\n",
              "      <td>24510271501</td>\n",
              "      <td>Mount Washington</td>\n",
              "      <td>Baltimore</td>\n",
              "      <td>MD</td>\n",
              "      <td>0.217273</td>\n",
              "      <td>0.008247</td>\n",
              "    </tr>\n",
              "    <tr>\n",
              "      <th>90</th>\n",
              "      <td>24510210200</td>\n",
              "      <td>Pigtown</td>\n",
              "      <td>Baltimore</td>\n",
              "      <td>MD</td>\n",
              "      <td>6.175515</td>\n",
              "      <td>-0.054344</td>\n",
              "    </tr>\n",
              "    <tr>\n",
              "      <th>94</th>\n",
              "      <td>24510120700</td>\n",
              "      <td>Remington</td>\n",
              "      <td>Baltimore</td>\n",
              "      <td>MD</td>\n",
              "      <td>0.815494</td>\n",
              "      <td>0.068231</td>\n",
              "    </tr>\n",
              "    <tr>\n",
              "      <th>95</th>\n",
              "      <td>24510230200</td>\n",
              "      <td>South Baltimore</td>\n",
              "      <td>Baltimore</td>\n",
              "      <td>MD</td>\n",
              "      <td>0.232356</td>\n",
              "      <td>0.038835</td>\n",
              "    </tr>\n",
              "    <tr>\n",
              "      <th>99</th>\n",
              "      <td>24510250103</td>\n",
              "      <td>Violetville</td>\n",
              "      <td>Baltimore</td>\n",
              "      <td>MD</td>\n",
              "      <td>2.062183</td>\n",
              "      <td>-0.063877</td>\n",
              "    </tr>\n",
              "    <tr>\n",
              "      <th>100</th>\n",
              "      <td>24510130806</td>\n",
              "      <td>Woodberry</td>\n",
              "      <td>Baltimore</td>\n",
              "      <td>MD</td>\n",
              "      <td>0.815494</td>\n",
              "      <td>0.265527</td>\n",
              "    </tr>\n",
              "  </tbody>\n",
              "</table>\n",
              "</div>"
            ],
            "text/plain": [
              "           Tract      Neighborhood  ... Percent Abandoned Houses Population Growth\n",
              "0    24510250101        Beechfield  ...                 1.025499         -0.013305\n",
              "1    24003750201          Brooklyn  ...                 7.826087          0.094972\n",
              "17   24510010400            Canton  ...                 0.470530          0.121103\n",
              "33   24510272004         Cheswolde  ...                 0.102705          0.131686\n",
              "34   24510250500        Curtis Bay  ...                 7.826087          0.020342\n",
              "35   24510040100          Downtown  ...                11.190818          1.396552\n",
              "60   24510020300       Fells Point  ...                 1.031175          0.255843\n",
              "61   24510260102         Frankford  ...                 1.207883          0.053716\n",
              "65   24510130700           Hampden  ...                 0.815494         -0.066872\n",
              "74   24510180300    Hollins Market  ...                13.543192         -0.103415\n",
              "75   24510271200          Homeland  ...                 0.470127          0.036593\n",
              "76   24510200800         Irvington  ...                 5.994024         -0.026010\n",
              "77   24510250205          Lakeland  ...                 6.996269          0.063318\n",
              "78   24510270200        Lauraville  ...                 1.476510         -0.051200\n",
              "82   24510030200      Little Italy  ...                 1.793981          0.041591\n",
              "83   24510270803        Loch Raven  ...                 0.591716          0.022056\n",
              "84   24510130803          Medfield  ...                 0.815494         -0.004367\n",
              "85   24510250206      Morrell Park  ...                 2.062183          0.011796\n",
              "89   24510271501  Mount Washington  ...                 0.217273          0.008247\n",
              "90   24510210200           Pigtown  ...                 6.175515         -0.054344\n",
              "94   24510120700         Remington  ...                 0.815494          0.068231\n",
              "95   24510230200   South Baltimore  ...                 0.232356          0.038835\n",
              "99   24510250103       Violetville  ...                 2.062183         -0.063877\n",
              "100  24510130806         Woodberry  ...                 0.815494          0.265527\n",
              "\n",
              "[24 rows x 6 columns]"
            ]
          },
          "metadata": {
            "tags": []
          },
          "execution_count": 59
        }
      ]
    },
    {
      "cell_type": "markdown",
      "metadata": {
        "id": "s2AkVg7bxxcv"
      },
      "source": [
        "# scatter plot comparing % vacant resident properties and population growth"
      ]
    },
    {
      "cell_type": "code",
      "metadata": {
        "id": "lzluHJxWpBRv"
      },
      "source": [
        "# make a scatter plot \n",
        "import plotly.express as px\n",
        "import pandas as pd\n",
        "import matplotlib.pyplot as plt\n",
        "%matplotlib inline"
      ],
      "execution_count": null,
      "outputs": []
    },
    {
      "cell_type": "code",
      "metadata": {
        "id": "0huMjsqwrj09"
      },
      "source": [
        "df = pd.read_csv(\"https://raw.githubusercontent.com/katherinetien/exploring-baltimore-housing-development/main/raw_merged_data.csv\")"
      ],
      "execution_count": null,
      "outputs": []
    },
    {
      "cell_type": "code",
      "metadata": {
        "colab": {
          "base_uri": "https://localhost:8080/",
          "height": 204
        },
        "id": "7A0Jihvqssfe",
        "outputId": "2dc68e92-c27d-4d53-d424-ebfbb5c5c195"
      },
      "source": [
        "df.head()"
      ],
      "execution_count": null,
      "outputs": [
        {
          "output_type": "execute_result",
          "data": {
            "text/html": [
              "<div>\n",
              "<style scoped>\n",
              "    .dataframe tbody tr th:only-of-type {\n",
              "        vertical-align: middle;\n",
              "    }\n",
              "\n",
              "    .dataframe tbody tr th {\n",
              "        vertical-align: top;\n",
              "    }\n",
              "\n",
              "    .dataframe thead th {\n",
              "        text-align: right;\n",
              "    }\n",
              "</style>\n",
              "<table border=\"1\" class=\"dataframe\">\n",
              "  <thead>\n",
              "    <tr style=\"text-align: right;\">\n",
              "      <th></th>\n",
              "      <th>Tract</th>\n",
              "      <th>Neighborhood</th>\n",
              "      <th>City</th>\n",
              "      <th>State</th>\n",
              "      <th>Percent Abandoned Houses</th>\n",
              "      <th>Population Growth</th>\n",
              "    </tr>\n",
              "  </thead>\n",
              "  <tbody>\n",
              "    <tr>\n",
              "      <th>0</th>\n",
              "      <td>24510250101</td>\n",
              "      <td>Beechfield</td>\n",
              "      <td>Baltimore</td>\n",
              "      <td>MD</td>\n",
              "      <td>1.025499</td>\n",
              "      <td>-0.013305</td>\n",
              "    </tr>\n",
              "    <tr>\n",
              "      <th>1</th>\n",
              "      <td>24003750201</td>\n",
              "      <td>Brooklyn</td>\n",
              "      <td>Baltimore</td>\n",
              "      <td>MD</td>\n",
              "      <td>7.826087</td>\n",
              "      <td>0.094972</td>\n",
              "    </tr>\n",
              "    <tr>\n",
              "      <th>2</th>\n",
              "      <td>24510010400</td>\n",
              "      <td>Canton</td>\n",
              "      <td>Baltimore</td>\n",
              "      <td>MD</td>\n",
              "      <td>0.470530</td>\n",
              "      <td>0.121103</td>\n",
              "    </tr>\n",
              "    <tr>\n",
              "      <th>3</th>\n",
              "      <td>24510272004</td>\n",
              "      <td>Cheswolde</td>\n",
              "      <td>Baltimore</td>\n",
              "      <td>MD</td>\n",
              "      <td>0.102705</td>\n",
              "      <td>0.131686</td>\n",
              "    </tr>\n",
              "    <tr>\n",
              "      <th>4</th>\n",
              "      <td>24510250500</td>\n",
              "      <td>Curtis Bay</td>\n",
              "      <td>Baltimore</td>\n",
              "      <td>MD</td>\n",
              "      <td>7.826087</td>\n",
              "      <td>0.020342</td>\n",
              "    </tr>\n",
              "  </tbody>\n",
              "</table>\n",
              "</div>"
            ],
            "text/plain": [
              "         Tract Neighborhood  ... Percent Abandoned Houses Population Growth\n",
              "0  24510250101   Beechfield  ...                 1.025499         -0.013305\n",
              "1  24003750201     Brooklyn  ...                 7.826087          0.094972\n",
              "2  24510010400       Canton  ...                 0.470530          0.121103\n",
              "3  24510272004    Cheswolde  ...                 0.102705          0.131686\n",
              "4  24510250500   Curtis Bay  ...                 7.826087          0.020342\n",
              "\n",
              "[5 rows x 6 columns]"
            ]
          },
          "metadata": {
            "tags": []
          },
          "execution_count": 61
        }
      ]
    },
    {
      "cell_type": "code",
      "metadata": {
        "colab": {
          "base_uri": "https://localhost:8080/",
          "height": 293
        },
        "id": "LbygjzyrswJJ",
        "outputId": "3d2276a8-5623-41ba-8d81-92288410c592"
      },
      "source": [
        "df.plot.scatter(x=\"Percent Abandoned Houses\", y= \"Population Growth\")"
      ],
      "execution_count": null,
      "outputs": [
        {
          "output_type": "execute_result",
          "data": {
            "text/plain": [
              "<matplotlib.axes._subplots.AxesSubplot at 0x7f4df60e8358>"
            ]
          },
          "metadata": {
            "tags": []
          },
          "execution_count": 62
        },
        {
          "output_type": "display_data",
          "data": {
            "image/png": "[encoded data removed]",
            "text/plain": [
              "<Figure size 432x288 with 1 Axes>"
            ]
          },
          "metadata": {
            "tags": [],
            "needs_background": "light"
          }
        }
      ]
    },
    {
      "cell_type": "code",
      "metadata": {
        "colab": {
          "base_uri": "https://localhost:8080/",
          "height": 293
        },
        "id": "qQHEUpO2tDyq",
        "outputId": "b5b98f30-b911-4e9c-d9ac-0205d008a7cc"
      },
      "source": [
        "import seaborn as sns\n",
        "sns.set_style('white')\n",
        "sns.set_style('ticks')\n",
        "sns.regplot(x=\"Percent Abandoned Houses\", y= \"Population Growth\", color = \"g\", data = df)"
      ],
      "execution_count": null,
      "outputs": [
        {
          "output_type": "execute_result",
          "data": {
            "text/plain": [
              "<matplotlib.axes._subplots.AxesSubplot at 0x7f4df59a5dd8>"
            ]
          },
          "metadata": {
            "tags": []
          },
          "execution_count": 65
        },
        {
          "output_type": "display_data",
          "data": {
            "image/png": "[encoded data removed]",
            "text/plain": [
              "<Figure size 432x288 with 1 Axes>"
            ]
          },
          "metadata": {
            "tags": []
          }
        }
      ]
    }
  ]
}